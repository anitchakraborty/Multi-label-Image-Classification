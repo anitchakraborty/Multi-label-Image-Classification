{
 "cells": [
  {
   "cell_type": "code",
   "execution_count": 1,
   "metadata": {},
   "outputs": [
    {
     "name": "stdout",
     "output_type": "stream",
     "text": [
      "WARNING:tensorflow:From /home/guest/anaconda3/lib/python3.7/site-packages/tensorflow/python/ops/init_ops.py:1251: calling VarianceScaling.__init__ (from tensorflow.python.ops.init_ops) with dtype is deprecated and will be removed in a future version.\n",
      "Instructions for updating:\n",
      "Call initializer instance with the dtype argument instead of passing it to the constructor\n"
     ]
    }
   ],
   "source": [
    "from imageai.Prediction import ImagePrediction\n",
    "import os\n",
    "import pandas as pd\n",
    "import numpy as np\n",
    "from PIL import Image\n",
    "from gensim.models import Word2Vec\n",
    "from sklearn.cluster import KMeans\n",
    "import matplotlib.pyplot as plt\n",
    "%matplotlib inline \n",
    "\n",
    "\n",
    "execution_path = os.getcwd()\n",
    "prediction = ImagePrediction()\n",
    "prediction.setModelTypeAsDenseNet()\n",
    "prediction.setModelPath(os.path.join(execution_path, \"/home/guest/Documents/Test1/ImageAI-master/imageai/Prediction/Weights/DenseNet.h5\"))\n",
    "prediction.loadModel()\n",
    "TEST_PATH = '/home/guest/Documents/Aikomi'"
   ]
  },
  {
   "cell_type": "code",
   "execution_count": 2,
   "metadata": {},
   "outputs": [],
   "source": [
    "def tag(TEST_PATH, prediction):\n",
    "    pred_array = np.empty((0,6),dtype=object)\n",
    "    for img in os.listdir(TEST_PATH):\n",
    "        if img.endswith('.jpg'):\n",
    "            image = Image.open(os.path.join(TEST_PATH, img))\n",
    "            image = image.convert(\"RGB\")\n",
    "            image = np.array(image, dtype=np.uint8)\n",
    "            predictions, probabilities = prediction.predictImage(os.path.join(TEST_PATH, img), result_count=5)\n",
    "            temprow = np.zeros((1,pred_array.shape[1]),dtype=object)\n",
    "            temprow[0,0] = img\n",
    "            for i in range(len(predictions)):\n",
    "                temprow[0,i+1] = predictions[i]\n",
    "            pred_array = np.append(pred_array,temprow,axis=0)\n",
    "    return pred_array"
   ]
  },
  {
   "cell_type": "code",
   "execution_count": 3,
   "metadata": {},
   "outputs": [
    {
     "name": "stdout",
     "output_type": "stream",
     "text": [
      "(354, 6)\n",
      "[['1541565430897-Dog-maltese1.jpg' 'Maltese_dog' 'Lhasa' 'Shih-Tzu'\n",
      "  'Japanese_spaniel' 'Tibetan_terrier']\n",
      " ['1534154099702-2017-01-06.jpg' 'alp' 'valley' 'seashore' 'lakeside'\n",
      "  'volcano']\n",
      " ['1536925205335-0811wallpaper-5_1280.jpg' 'sandbar' 'geyser' 'seashore'\n",
      "  'volcano' 'leatherback_turtle']\n",
      " ...\n",
      " ['1541064754434-download _1_.jpg' 'valley' 'cliff' 'lakeside' 'seashore'\n",
      "  'alp']\n",
      " ['1540961836788-600600.jpg' 'hair_slide' 'bonnet' 'wig' 'wool'\n",
      "  'hair_spray']\n",
      " ['1536924136635-0818wallpaper-7_1280.jpg' 'umbrella' 'parachute'\n",
      "  'seashore' 'wreck' 'crutch']]\n"
     ]
    }
   ],
   "source": [
    "pred_array= tag(TEST_PATH, prediction)\n",
    "print(np.shape(pred_array))\n",
    "print(pred_array)"
   ]
  },
  {
   "cell_type": "code",
   "execution_count": 4,
   "metadata": {},
   "outputs": [],
   "source": [
    "pred_array = tag(TEST_PATH, prediction)\n",
    "def mapping(pred_array):\n",
    "        all_tags = pred_array[:,1:2].reshape(1,-1).tolist()\n",
    "        _in_sent = ' '.join(list(map(str,all_tags)))\n",
    "        mappings = []\n",
    "        for i in pred_array:\n",
    "            for j in range(1):\n",
    "                mappings.append([i[0],i[j+1]])\n",
    "        return mappings, all_tags"
   ]
  },
  {
   "cell_type": "code",
   "execution_count": 5,
   "metadata": {
    "scrolled": true
   },
   "outputs": [
    {
     "name": "stdout",
     "output_type": "stream",
     "text": [
      "(354, 2)\n",
      "(1, 354)\n",
      "[['1541565430897-Dog-maltese1.jpg', 'Maltese_dog'], ['1534154099702-2017-01-06.jpg', 'alp'], ['1536925205335-0811wallpaper-5_1280.jpg', 'sandbar'], ['1534160719354-0811wallpaper-1_1280.jpg', 'cauliflower'], ['1541071465047-tree-736885__340.jpg', 'fountain'], ['0811wallpaper-8_1280.jpg', 'racket'], ['1541564513943-Bird-parakeet1.jpg', 'lorikeet'], ['1541564513810-Bird-finch1.jpg', 'kite'], ['1541076156450-0818wallpaper-10_1280.jpg', 'stone_wall'], ['1541075914699-0811wallpaper-8_1280.jpg', 'basketball'], ['1541487481511-volley ball.jpg', 'volleyball'], ['1541075383283-0817wallpaper-1_1600.jpg', 'pole'], ['1534238677268-0811wallpaper-8_1280.jpg', 'racket'], ['1541487407489-parade2.jpg', 'typewriter_keyboard'], ['1541485075251-Ashoka.jpg', 'torch'], ['1541564479593-Bird-finch3.jpg', 'hen'], ['1540800980622-BingWallpaper-2017-08-27.jpg', 'cliff'], ['1541484566715-marcus-aurelius.jpg', 'mask'], ['1540963949863-0811wallpaper-2_1280.jpg', 'coil'], ['1540788131615-DigitalGlobe_WorldView2_50cm_8bit_Pansharpened_RGB_DRA_Rome_Italy_2009DEC10_8bits_sub_r_1_BIGFILE.jpg', 'tarantula'], ['1536924133586-0818wallpaper-3_1280.jpg', 'cardoon'], ['1536228559386-0818wallpaper-10_1280.jpg', 'stone_wall'], ['1541484939119-Ashoka.jpg', 'torch'], ['1541064418206-300400.jpg', 'seat_belt'], ['1541052655277-0817wallpaper-9_1600.jpg', 'albatross'], ['1540988911126-BingWallpaper-2017-08-29.jpg', 'great_white_shark'], ['1536923312319-02dc71c8ce5b8365841a1d2bc9200c5d.jpg', 'wire-haired_fox_terrier'], ['1540804775082-BingWallpaper-2017-08-27.jpg', 'cliff'], ['1537350974131-0817wallpaper-1_1600.jpg', 'lakeside'], ['1536924088690-0817wallpaper-2_1600.jpg', 'lakeside'], ['1540989044400-BingWallpaper-2017-08-30.jpg', 'alp'], ['1541487956865-Frog Haiku6.jpg', 'Granny_Smith'], ['1541486408161-cleaning.jpg', 'guillotine'], ['1540789311454-hogweed-176776915.jpg', 'daisy'], ['1534154232412-2017-03-04.jpg', 'cabbage_butterfly'], ['1533901299775-2017-03-04.jpg', 'cabbage_butterfly'], ['1541487136124-jump2.jpg', 'park_bench'], ['1541070782416-flowers-beautiful-rose-pink-cute-spring-green-flower-lovely-nature-picture-free-download.jpg', 'picket_fence'], ['1536924076474-0811wallpaper-2_1280.jpg', 'coil'], ['1540812744407-download.jpg', 'vase'], ['1537422425677-0811wallpaper-2_1280.jpg', 'coil'], ['1536228660878-0811wallpaper-1_1280.jpg', 'cauliflower'], ['1541074971644-0811wallpaper-5_1280.jpg', 'seashore'], ['1541059275737-0818wallpaper-10_1280.jpg', 'stone_wall'], ['1536924138212-0818wallpaper-10_1280.jpg', 'stone_wall'], ['1537350978466-0817wallpaper-10_1600.jpg', 'fountain'], ['1534161091128-0811wallpaper-6_1280.jpg', 'crayfish'], ['1541138414762-download.jpg', 'vase'], ['1541067236946-photo-1507133593700-dad762440af7.jpg', 'hyena'], ['1541138413224-big-shark-free-photos-download.jpg', 'tiger_shark'], ['1541072675865-qk4JqNrg_400x400.jpg', 'book_jacket'], ['1540801742581-BingWallpaper-2017-08-30.jpg', 'alp'], ['1541487956617-Frog Haiku1.jpg', 'broccoli'], ['1540579810308-team-2.jpg', 'wig'], ['1541564479559-Bird-finch2.jpg', 'patas'], ['1541054325270-star-wars-poster-4k-af-1920x1080.jpg', 'sarong'], ['1541404373265-photo-1508485654983-d3ff70e70357.jpg', 'maze'], ['1537350978011-0817wallpaper-8_1600.jpg', 'prison'], ['1540624400703-1534161091126-0811wallpaper-5_1280.jpg', 'sandbar'], ['1536924086333-0811wallpaper-9_1280.jpg', 'Indian_elephant'], ['1534161119327-0811wallpaper-9_1280.jpg', 'Indian_elephant'], ['1541045449029-images _1_.jpg', 'sunglass'], ['1541412131517-Train12.jpg', 'steam_locomotive'], ['1536923079705-02dc71c8ce5b8365841a1d2bc9200c5d.jpg', 'wire-haired_fox_terrier'], ['1541412131542-Train15.jpg', 'bullet_train'], ['1541045648698-07173547155338-t1200x480.jpg', 'reflex_camera'], ['1541564479608-Bird-finch4.jpg', 'partridge'], ['1536924133591-0818wallpaper-4_1280.jpg', 'breakwater'], ['1541047425680-images.jpg', 'Persian_cat'], ['1536925205319-0811wallpaper-1_1280.jpg', 'cauliflower'], ['1540809412358-Untitled Diagram.jpg', 'web_site'], ['1541481990165-Sauce1.jpg', 'French_loaf'], ['1541075555602-0811wallpaper-8_1280.jpg', 'basketball'], ['1540988750431-BingWallpaper-2017-09-11.jpg', 'seashore'], ['1541412131398-KR-F-Fam38.jpg', 'pajama'], ['1536925205332-0811wallpaper-2_1280.jpg', 'coil'], ['1537425300335-0818wallpaper-9_1280.jpg', 'alp'], ['1536929632155-0818wallpaper-8_1280.jpg', 'water_bottle'], ['1534161119332-0811wallpaper-6_1280.jpg', 'crayfish'], ['1541052957389-beautiful-wallpaper-download-14.jpg', 'matchstick'], ['1541054450761-WallpaperStudio10-78092.jpg', 'alp'], ['1536929524404-0811wallpaper-9_1280.jpg', 'Indian_elephant'], ['1541485421172-eleanor-roosevelt.jpg', 'fur_coat'], ['1537343488027-0811wallpaper-7_1280.jpg', 'robin'], ['1540803884388-BingWallpaper-2017-08-24.jpg', 'bannister'], ['1541412131472-Train2.jpg', 'electric_locomotive'], ['1541482216227-Fuji1.jpg', 'alp'], ['1540888963420-hogweed-176776915.jpg', 'daisy'], ['1541138413203-big_stone_516472.jpg', 'puffer'], ['1541487956753-Frog Haiku4.jpg', 'bullfrog'], ['1536228435937-0811wallpaper-1_1280.jpg', 'cauliflower'], ['1541486303555-lunch.jpg', 'plastic_bag'], ['1541138413198-600600.jpg', 'hair_slide'], ['1540624342763-1534161091126-0811wallpaper-5_1280.jpg', 'sandbar'], ['1540888939090-how-to-calculate-long-exposure-times-longImages.jpg', 'web_site'], ['1541056342825-BingWallpaper-2018-02-07.jpg', 'volcano'], ['1534238677261-0811wallpaper-6_1280.jpg', 'crayfish'], ['1536924076497-0811wallpaper-5_1280.jpg', 'sandbar'], ['1541487956740-Frog Haiku3.jpg', 'bullfrog'], ['1541412131365-KR-F-Fam36.jpg', 'steam_locomotive'], ['1541564479621-Bird-parakeet1.jpg', 'lorikeet'], ['1534161091130-0811wallpaper-8_1280.jpg', 'racket'], ['1534234719286-0811wallpaper-7_1280.jpg', 'robin'], ['1540804891061-BingWallpaper-2017-08-24.jpg', 'bannister'], ['1536924083195-0811wallpaper-7_1280.jpg', 'robin'], ['1541412131532-Train14.jpg', 'bullet_train'], ['1541565288493-DOG1.jpg', 'chow'], ['1541486153176-line up.jpg', 'military_uniform'], ['1536228742919-0818wallpaper-7_1280.jpg', 'umbrella'], ['1540623880786-1534161091126-0811wallpaper-5_1280.jpg', 'sandbar'], ['1541566076160-Ikebo5.jpg', 'pot'], ['1541054892804-BingWallpaper-2018-02-12.jpg', 'cuirass'], ['1534154282183-2017-03-04.jpg', 'cabbage_butterfly'], ['1540962451771-0817wallpaper-2_1600.jpg', 'lakeside'], ['1541412131500-Train7.jpg', 'steam_locomotive'], ['1541412131512-Train10 _1_.jpg', 'steam_locomotive'], ['1541565689174-Hyakunin2.jpg', 'space_bar'], ['1541138414766-hogweed-176776915.jpg', 'daisy'], ['1541047399117-MYd9i4X5gVCMmKP3gsekuP-320-80.jpg', 'reflex_camera'], ['1536908209939-04558797e701bea2363e37bd0c0188d7.jpg', 'bannister'], ['1541566076096-Ikebo3.jpg', 'vase'], ['1536842880251-04558797e701bea2363e37bd0c0188d7.jpg', 'bannister'], ['1540623880806-1536929524344-0811wallpaper-7_1280.jpg', 'robin'], ['1533903156396-2017-03-04.jpg', 'cabbage_butterfly'], ['1541412131514-Train10.jpg', 'steam_locomotive'], ['1540789043040-DigitalGlobe_WorldView2_50cm_8bit_Pansharpened_RGB_DRA_Rome_Italy_2009DEC10_8bits_sub_r_1_BIGFILE.jpg', 'tarantula'], ['1541412131383-KR-F-Fam37.jpg', 'steam_locomotive'], ['1536924137496-0818wallpaper-8_1280.jpg', 'water_bottle'], ['1537350974169-0817wallpaper-6_1600.jpg', 'tree_frog'], ['1536924076497-0811wallpaper-4_1280.jpg', 'seashore'], ['1541049985349-0818wallpaper-1_1280.jpg', 'church'], ['1541055067930-flowers-beautiful-rose-pink-cute-spring-green-flower-lovely-nature-picture-free-download.jpg', 'picket_fence'], ['1541138413196-500569.jpg', 'bonnet'], ['1536924085054-0811wallpaper-8_1280.jpg', 'racket'], ['1537349088393-0811wallpaper-7_1280.jpg', 'robin'], ['1536924088366-0817wallpaper-1_1600.jpg', 'lakeside'], ['1540804645246-BingWallpaper-2017-08-27.jpg', 'cliff'], ['1536923079713-04558797e701bea2363e37bd0c0188d7.jpg', 'bannister'], ['1541044571649-images.jpg', 'Persian_cat'], ['1541072287044-images.jpg', 'Persian_cat'], ['1541067254207-images.jpg', 'alp'], ['1541054981980-BingWallpaper-2018-02-12.jpg', 'cuirass'], ['1540624158358-1536929524344-0811wallpaper-7_1280.jpg', 'robin'], ['1540804034203-BingWallpaper-2017-08-24.jpg', 'bannister'], ['1536924076465-0811wallpaper-1_1280.jpg', 'cauliflower'], ['0817wallpaper-1_1600.jpg', 'lakeside'], ['1541064432677-MYd9i4X5gVCMmKP3gsekuP-320-80.jpg', 'reflex_camera'], ['1541049985406-0818wallpaper-9_1280.jpg', 'alp'], ['1541412131517-Train11.jpg', 'steam_locomotive'], ['1541567874005-OsakaBP1.jpg', 'space_shuttle'], ['1536929632161-0818wallpaper-10_1280.jpg', 'stone_wall'], ['1540802036928-BingWallpaper-2017-09-12.jpg', 'castle'], ['1536929524373-0811wallpaper-8_1280.jpg', 'racket'], ['1540809632733-Untitled Diagram.jpg', 'web_site'], ['1541054573215-shiva-wallpaper-9.jpg', 'coil'], ['1541565430885-Dog-Karafuto1.jpg', 'Newfoundland'], ['1541564513911-Bird-finch3.jpg', 'hen'], ['1541042453304-beautiful-images-wallpapers-_1_.jpg', 'pinwheel'], ['1540579440484-team-3.jpg', 'pajama'], ['1536924133582-0818wallpaper-2_1280.jpg', 'ice_bear'], ['1541049985384-0818wallpaper-7_1280.jpg', 'umbrella'], ['1541076334716-0817wallpaper-9_1600.jpg', 'albatross'], ['1541565430894-Dog-Karafuto3.jpg', 'groenendael'], ['1536929524463-0811wallpaper-10_1280.jpg', 'wing'], ['1534154153945-2016-09-09.jpg', 'lakeside'], ['1541486543083-running.jpg', 'volleyball'], ['1541041928795-387536_ca0e_5.jpg', 'reflex_camera'], ['1534238677266-0811wallpaper-7_1280.jpg', 'robin'], ['1534154232415-2017-04-01.jpg', 'electric_ray'], ['1541568045144-OsakaBP1.jpg', 'space_shuttle'], ['1541042083289-387536_ca0e_5.jpg', 'reflex_camera'], ['1541410944348-AkihitoMichiko1.jpg', 'suit'], ['1534154282185-2017-04-01.jpg', 'electric_ray'], ['1540615170823-team-4.jpg', 'suit'], ['1536924086542-0811wallpaper-10_1280.jpg', 'wing'], ['1536929530710-0817wallpaper-1_1600.jpg', 'lakeside'], ['1541138414762-download _1_.jpg', 'valley'], ['1537282190367-0811wallpaper-7_1280.jpg', 'robin'], ['1536924076476-0811wallpaper-3_1280.jpg', 'dock'], ['1540580198203-team-2.jpg', 'wig'], ['1541064432672-entry-dslr.jpg', 'punching_bag'], ['1534160719392-0811wallpaper-4_1280.jpg', 'seashore'], ['1536929632154-0818wallpaper-7_1280.jpg', 'umbrella'], ['1541067052835-flower-3140492__340.jpg', 'daisy'], ['1541487956695-Frog Haiku2.jpg', 'greenhouse'], ['1541046863441-MYd9i4X5gVCMmKP3gsekuP-320-80.jpg', 'reflex_camera'], ['1541049985369-0818wallpaper-4_1280.jpg', 'breakwater'], ['1536929524344-0811wallpaper-7_1280.jpg', 'robin'], ['1541412131336-KR-F-Fam16.jpg', 'military_uniform'], ['1534154153949-2016-09-27.jpg', 'geyser'], ['1541564513867-Bird-finch2.jpg', 'patas'], ['1541138413133-300400.jpg', 'seat_belt'], ['1540963949852-0811wallpaper-1_1280.jpg', 'cauliflower'], ['1540796164443-0817wallpaper-7_1600.jpg', 'geyser'], ['1541412131306-KR-F-Fam11.jpg', 'steam_locomotive'], ['1541071191309-download.jpg', 'hen-of-the-woods'], ['1541482454875-Sport-hanshin logo.jpg', 'puck'], ['1541484706765-Nelson Mandela.jpg', 'bow_tie'], ['1541487541324-running2.jpg', 'ballplayer'], ['1536908281116-02dc71c8ce5b8365841a1d2bc9200c5d.jpg', 'wire-haired_fox_terrier'], ['1540804459882-BingWallpaper-2017-11-06.jpg', 'castle'], ['1540579492242-team-2.jpg', 'wig'], ['1536929632156-0818wallpaper-9_1280.jpg', 'alp'], ['1541064432670-07173547155338-t1200x480.jpg', 'reflex_camera'], ['1541564513971-Bird-parakeet2.jpg', 'lorikeet'], ['1534234887754-0811wallpaper-6_1280.jpg', 'crayfish'], ['1541412131350-KR-F-Fam35.jpg', 'steam_locomotive'], ['1536908281119-04558797e701bea2363e37bd0c0188d7.jpg', 'bannister'], ['1540792779997-BingWallpaper-2017-08-24.jpg', 'bannister'], ['1541411111405-AkihitoMichiko1.jpg', 'kimono'], ['1541049985354-0818wallpaper-2_1280.jpg', 'ice_bear'], ['1541138414763-flower-3140492__340.jpg', 'daisy'], ['1540579419282-team-3.jpg', 'pajama'], ['1541411155300-AkihitoMichiko1.jpg', 'kimono'], ['1540804196764-BingWallpaper-2017-11-06.jpg', 'castle'], ['1541042267079-07173547155338-t1200x480.jpg', 'reflex_camera'], ['1541052475334-images _1_.jpg', 'sunglass'], ['1541059448619-0817wallpaper-8_1600.jpg', 'prison'], ['1537350978150-0817wallpaper-9_1600.jpg', 'albatross'], ['1541412131289-KR-F-Fam10.jpg', 'steam_locomotive'], ['1540623880794-1534161091130-0811wallpaper-8_1280.jpg', 'racket'], ['1541073529993-dandelion-445228__340.jpg', 'lionfish'], ['1536924137926-0818wallpaper-9_1280.jpg', 'alp'], ['1534160719386-0811wallpaper-2_1280.jpg', 'coil'], ['1541486930933-jump2.jpg', 'balance_beam'], ['1536929524318-0811wallpaper-5_1280.jpg', 'sandbar'], ['1541481757921-Train4.jpg', 'steam_locomotive'], ['1541053630481-nataraja-wallpaper-1920x1080.jpg', 'wall_clock'], ['1541072177349-1.300.jpg', 'lakeside'], ['1541566076036-Ikebo1.jpg', 'vase'], ['1540615092874-team-2.jpg', 'wig'], ['1536929632142-0818wallpaper-6_1280.jpg', 'lakeside'], ['1541047399115-07173547155338-t1200x480.jpg', 'reflex_camera'], ['1541486356476-class.jpg', 'restaurant'], ['1536929524334-0811wallpaper-6_1280.jpg', 'crayfish'], ['1537350974169-0817wallpaper-5_1600.jpg', 'seashore'], ['1534160719388-0811wallpaper-3_1280.jpg', 'dock'], ['1541565689200-Hyakunin4.jpg', 'kimono'], ['1541486716251-march.jpg', 'cinema'], ['1536925205346-0811wallpaper-6_1280.jpg', 'crayfish'], ['1534154099700-2017-01-24.jpg', 'lakeside'], ['1541412131503-Train8.jpg', 'steam_locomotive'], ['1541413165804-0811wallpaper-6_1280.jpg', 'spiny_lobster'], ['1540579957435-team-3.jpg', 'pajama'], ['1541568045219-OsakaBP3.jpg', 'gong'], ['1541486491736-jump.jpg', 'park_bench'], ['1540614935834-team-3.jpg', 'pajama'], ['1541568045173-OsakaBP2.jpg', 'drilling_platform'], ['1540803330029-BingWallpaper-2017-11-06.jpg', 'castle'], ['1541049829128-images _1_.jpg', 'sunglass'], ['1541566076171-Ikebo6.jpg', 'mortar'], ['1541412131476-Train3.jpg', 'electric_locomotive'], ['1540623880796-1534161119327-0811wallpaper-9_1280.jpg', 'Indian_elephant'], ['1541064432677-Best-Mid-Range-DSLR-Cameras.jpg', 'reflex_camera'], ['1540961923151-0811wallpaper-6_1280.jpg', 'crayfish'], ['1541565689176-Hyakunin3.jpg', 'barbell'], ['1541565689111-Hyakunin1.jpg', 'envelope'], ['1536924133601-0818wallpaper-6_1280.jpg', 'lakeside'], ['1541049985381-0818wallpaper-6_1280.jpg', 'lakeside'], ['0811wallpaper-7_1280.jpg', 'robin'], ['1541565430796-DOG3.jpg', 'pug'], ['1541485558547-elizabeth I.jpg', 'vestment'], ['1537350974157-0817wallpaper-4_1600.jpg', 'American_egret'], ['1541482112113-Sauce3.jpg', 'plate'], ['1536923142142-02dc71c8ce5b8365841a1d2bc9200c5d.jpg', 'wire-haired_fox_terrier'], ['1541412131522-Train13.jpg', 'steam_locomotive'], ['1537350592958-0811wallpaper-9_1280.jpg', 'Indian_elephant'], ['1536923312329-04558797e701bea2363e37bd0c0188d7.jpg', 'bannister'], ['1537282190361-0811wallpaper-6_1280.jpg', 'crayfish'], ['1541054706437-beautiful-wallpaper-download-14.jpg', 'matchstick'], ['1541566076172-Ikebo7.jpg', 'rhinoceros_beetle'], ['1537350978601-0818wallpaper-1_1280.jpg', 'church'], ['1541075107027-0811wallpaper-5_1280.jpg', 'seashore'], ['1534161091129-0811wallpaper-7_1280.jpg', 'robin'], ['1541049985360-0818wallpaper-3_1280.jpg', 'cardoon'], ['1541049985378-0818wallpaper-5_1280.jpg', 'geyser'], ['1536924076498-0811wallpaper-6_1280.jpg', 'crayfish'], ['1534234719282-0811wallpaper-6_1280.jpg', 'crayfish'], ['1537350974141-0817wallpaper-2_1600.jpg', 'lakeside'], ['1541412131498-Train6.jpg', 'steam_locomotive'], ['1541412131414-Train1.jpg', 'electric_locomotive'], ['1541070907392-wood-sea-nature-449627.jpg', 'breakwater'], ['1541564479641-Bird-parakeet2.jpg', 'lorikeet'], ['1534161091126-0811wallpaper-5_1280.jpg', 'sandbar'], ['1540989199587-BingWallpaper-2017-08-29.jpg', 'great_white_shark'], ['0811wallpaper-6_1280.jpg', 'crayfish'], ['1541482049366-Sauce2.jpg', 'king_crab'], ['1533903369992-2016-09-27.jpg', 'geyser'], ['1534234719287-0811wallpaper-8_1280.jpg', 'racket'], ['1536908209912-02dc71c8ce5b8365841a1d2bc9200c5d.jpg', 'wire-haired_fox_terrier'], ['1541410989580-AkihitoMichiko1.jpg', 'kimono'], ['1540792963727-nataraja-wallpaper-1920x1080.jpg', 'wall_clock'], ['1541412131489-Train4.jpg', 'steam_locomotive'], ['1541564479517-Bird-finch1.jpg', 'kite'], ['1537353518106-0811wallpaper-1_1280.jpg', 'cauliflower'], ['1536843037177-04558797e701bea2363e37bd0c0188d7.jpg', 'bannister'], ['1541071547276-tree-736885__340.jpg', 'fountain'], ['1541049985385-0818wallpaper-8_1280.jpg', 'water_bottle'], ['1540963949865-0811wallpaper-3_1280.jpg', 'dock'], ['1541138413254-DigitalGlobe_WorldView2_50cm_8bit_Pansharpened_RGB_DRA_Rome_Italy_2009DEC10_8bits_sub_r_1_BIGFILE.jpg', 'tarantula'], ['1540579389948-team-2.jpg', 'wig'], ['1536924133594-0818wallpaper-5_1280.jpg', 'geyser'], ['1534161119333-0811wallpaper-7_1280.jpg', 'robin'], ['1536929709201-0818wallpaper-1_1280.jpg', 'church'], ['1536906631010-04558797e701bea2363e37bd0c0188d7.jpg', 'bannister'], ['1541564513923-Bird-finch4.jpg', 'partridge'], ['1536924133576-0818wallpaper-1_1280.jpg', 'church'], ['1541074222100-0811wallpaper-7_1280.jpg', 'black_grouse'], ['1537425300342-0818wallpaper-10_1280.jpg', 'stone_wall'], ['1537350977678-0817wallpaper-7_1600.jpg', 'geyser'], ['1541054388671-entry-dslr.jpg', 'punching_bag'], ['1540964661922-0811wallpaper-1_1280.jpg', 'cauliflower'], ['1537350978802-0818wallpaper-2_1280.jpg', 'ice_bear'], ['1534161119339-0811wallpaper-8_1280.jpg', 'racket'], ['1541566076131-Ikebo4.jpg', 'vase'], ['1534238677264-0811wallpaper-6_1280.jpg', 'crayfish'], ['1540579555114-team-3.jpg', 'pajama'], ['1540962451742-0811wallpaper-10_1280.jpg', 'wing'], ['1541138413130-225225.jpg', 'ski_mask'], ['1536906631001-02dc71c8ce5b8365841a1d2bc9200c5d.jpg', 'wire-haired_fox_terrier'], ['1540962451743-0817wallpaper-1_1600.jpg', 'lakeside'], ['1541484768278-Nelson Mandela.jpg', 'Windsor_tie'], ['1541049985408-0818wallpaper-10_1280.jpg', 'stone_wall'], ['1534234719284-0811wallpaper-6_1280.jpg', 'crayfish'], ['1541565430844-DOG6.jpg', 'cairn'], ['1541049614160-Best-Mid-Range-DSLR-Cameras.jpg', 'reflex_camera'], ['1541487956772-Frog Haiku5.jpg', 'water_snake'], ['1541412131497-Train5.jpg', 'steam_locomotive'], ['1541074177404-0817wallpaper-8_1600.jpg', 'prison'], ['1541565689201-Hyakunin5.jpg', 'kimono'], ['1536923142152-04558797e701bea2363e37bd0c0188d7.jpg', 'bannister'], ['1541055215432-1.300.jpg', 'lakeside'], ['1541412131507-Train9.jpg', 'steam_locomotive'], ['1541074555855-0818wallpaper-3_1280.jpg', 'pot'], ['1540788010099-DigitalGlobe_WorldView2_50cm_8bit_Pansharpened_RGB_DRA_Rome_Italy_2009DEC10_8bits_sub_r_1_BIGFILE.jpg', 'tarantula'], ['1541412131546-Train16.jpg', 'bullet_train'], ['1537350974142-0817wallpaper-3_1600.jpg', 'dung_beetle'], ['1536929530811-0817wallpaper-2_1600.jpg', 'lakeside'], ['1540624417684-1536929524373-0811wallpaper-8_1280.jpg', 'racket'], ['1541566076054-Ikebo2.jpg', 'pot'], ['1540622855472-team-1.jpg', 'cellular_telephone'], ['1541486266945-playtime.jpg', 'prison'], ['0811wallpaper-9_1280.jpg', 'Indian_elephant'], ['1540792660670-BingWallpaper-2017-08-24.jpg', 'bannister'], ['1541041764849-387536_ca0e_5.jpg', 'reflex_camera'], ['1541412131320-KR-F-Fam15.jpg', 'steam_locomotive'], ['1540804422697-BingWallpaper-2017-08-24.jpg', 'bannister'], ['1541042494365-07173547155338-t1200x480.jpg', 'reflex_camera'], ['1541565689215-Hyakunin6.jpg', 'television'], ['1536843117244-04558797e701bea2363e37bd0c0188d7.jpg', 'bannister'], ['1541042182128-387536_ca0e_5.jpg', 'reflex_camera'], ['1541064754434-download _1_.jpg', 'valley'], ['1540961836788-600600.jpg', 'hair_slide'], ['1536924136635-0818wallpaper-7_1280.jpg', 'umbrella']]\n"
     ]
    }
   ],
   "source": [
    "mappings, all_tags=mapping(pred_array)\n",
    "print(np.shape(mappings))\n",
    "print(np.shape(all_tags))\n",
    "print(mappings)"
   ]
  },
  {
   "cell_type": "code",
   "execution_count": 6,
   "metadata": {
    "scrolled": false
   },
   "outputs": [
    {
     "name": "stdout",
     "output_type": "stream",
     "text": [
      "(1, 354)\n"
     ]
    }
   ],
   "source": [
    "print(np.shape(all_tags))"
   ]
  },
  {
   "cell_type": "code",
   "execution_count": 7,
   "metadata": {},
   "outputs": [],
   "source": [
    "mappings,_ = mapping(pred_array)\n",
    "_,all_tags= mapping(pred_array)\n",
    "def w2v(all_tags):\n",
    "    model = Word2Vec(all_tags, min_count=1, size=2, alpha=0.025)\n",
    "    words = list(model.wv.vocab)\n",
    "    vector = list()\n",
    "    for word in all_tags[0]:\n",
    "        vector.append(model[word])\n",
    "    return vector, words"
   ]
  },
  {
   "cell_type": "code",
   "execution_count": 8,
   "metadata": {
    "scrolled": true
   },
   "outputs": [
    {
     "name": "stdout",
     "output_type": "stream",
     "text": [
      "(354, 2)\n"
     ]
    },
    {
     "name": "stderr",
     "output_type": "stream",
     "text": [
      "/home/guest/anaconda3/lib/python3.7/site-packages/ipykernel_launcher.py:8: DeprecationWarning: Call to deprecated `__getitem__` (Method will be removed in 4.0.0, use self.wv.__getitem__() instead).\n",
      "  \n"
     ]
    }
   ],
   "source": [
    "vector, words=w2v(all_tags)\n",
    "print(np.shape(vector))"
   ]
  },
  {
   "cell_type": "code",
   "execution_count": 9,
   "metadata": {},
   "outputs": [
    {
     "name": "stdout",
     "output_type": "stream",
     "text": [
      "(118,)\n"
     ]
    }
   ],
   "source": [
    "print(np.shape(words))"
   ]
  },
  {
   "cell_type": "code",
   "execution_count": 10,
   "metadata": {},
   "outputs": [],
   "source": [
    "def imglst(vector, mappings):\n",
    "    image_name = []\n",
    "    for i in range(len(all_tags[0])):\n",
    "        image_name.append(mappings[i][0])\n",
    "    return image_name"
   ]
  },
  {
   "cell_type": "code",
   "execution_count": 11,
   "metadata": {
    "scrolled": true
   },
   "outputs": [
    {
     "name": "stdout",
     "output_type": "stream",
     "text": [
      "(354,)\n",
      "['1541565430897-Dog-maltese1.jpg', '1534154099702-2017-01-06.jpg', '1536925205335-0811wallpaper-5_1280.jpg', '1534160719354-0811wallpaper-1_1280.jpg', '1541071465047-tree-736885__340.jpg', '0811wallpaper-8_1280.jpg', '1541564513943-Bird-parakeet1.jpg', '1541564513810-Bird-finch1.jpg', '1541076156450-0818wallpaper-10_1280.jpg', '1541075914699-0811wallpaper-8_1280.jpg', '1541487481511-volley ball.jpg', '1541075383283-0817wallpaper-1_1600.jpg', '1534238677268-0811wallpaper-8_1280.jpg', '1541487407489-parade2.jpg', '1541485075251-Ashoka.jpg', '1541564479593-Bird-finch3.jpg', '1540800980622-BingWallpaper-2017-08-27.jpg', '1541484566715-marcus-aurelius.jpg', '1540963949863-0811wallpaper-2_1280.jpg', '1540788131615-DigitalGlobe_WorldView2_50cm_8bit_Pansharpened_RGB_DRA_Rome_Italy_2009DEC10_8bits_sub_r_1_BIGFILE.jpg', '1536924133586-0818wallpaper-3_1280.jpg', '1536228559386-0818wallpaper-10_1280.jpg', '1541484939119-Ashoka.jpg', '1541064418206-300400.jpg', '1541052655277-0817wallpaper-9_1600.jpg', '1540988911126-BingWallpaper-2017-08-29.jpg', '1536923312319-02dc71c8ce5b8365841a1d2bc9200c5d.jpg', '1540804775082-BingWallpaper-2017-08-27.jpg', '1537350974131-0817wallpaper-1_1600.jpg', '1536924088690-0817wallpaper-2_1600.jpg', '1540989044400-BingWallpaper-2017-08-30.jpg', '1541487956865-Frog Haiku6.jpg', '1541486408161-cleaning.jpg', '1540789311454-hogweed-176776915.jpg', '1534154232412-2017-03-04.jpg', '1533901299775-2017-03-04.jpg', '1541487136124-jump2.jpg', '1541070782416-flowers-beautiful-rose-pink-cute-spring-green-flower-lovely-nature-picture-free-download.jpg', '1536924076474-0811wallpaper-2_1280.jpg', '1540812744407-download.jpg', '1537422425677-0811wallpaper-2_1280.jpg', '1536228660878-0811wallpaper-1_1280.jpg', '1541074971644-0811wallpaper-5_1280.jpg', '1541059275737-0818wallpaper-10_1280.jpg', '1536924138212-0818wallpaper-10_1280.jpg', '1537350978466-0817wallpaper-10_1600.jpg', '1534161091128-0811wallpaper-6_1280.jpg', '1541138414762-download.jpg', '1541067236946-photo-1507133593700-dad762440af7.jpg', '1541138413224-big-shark-free-photos-download.jpg', '1541072675865-qk4JqNrg_400x400.jpg', '1540801742581-BingWallpaper-2017-08-30.jpg', '1541487956617-Frog Haiku1.jpg', '1540579810308-team-2.jpg', '1541564479559-Bird-finch2.jpg', '1541054325270-star-wars-poster-4k-af-1920x1080.jpg', '1541404373265-photo-1508485654983-d3ff70e70357.jpg', '1537350978011-0817wallpaper-8_1600.jpg', '1540624400703-1534161091126-0811wallpaper-5_1280.jpg', '1536924086333-0811wallpaper-9_1280.jpg', '1534161119327-0811wallpaper-9_1280.jpg', '1541045449029-images _1_.jpg', '1541412131517-Train12.jpg', '1536923079705-02dc71c8ce5b8365841a1d2bc9200c5d.jpg', '1541412131542-Train15.jpg', '1541045648698-07173547155338-t1200x480.jpg', '1541564479608-Bird-finch4.jpg', '1536924133591-0818wallpaper-4_1280.jpg', '1541047425680-images.jpg', '1536925205319-0811wallpaper-1_1280.jpg', '1540809412358-Untitled Diagram.jpg', '1541481990165-Sauce1.jpg', '1541075555602-0811wallpaper-8_1280.jpg', '1540988750431-BingWallpaper-2017-09-11.jpg', '1541412131398-KR-F-Fam38.jpg', '1536925205332-0811wallpaper-2_1280.jpg', '1537425300335-0818wallpaper-9_1280.jpg', '1536929632155-0818wallpaper-8_1280.jpg', '1534161119332-0811wallpaper-6_1280.jpg', '1541052957389-beautiful-wallpaper-download-14.jpg', '1541054450761-WallpaperStudio10-78092.jpg', '1536929524404-0811wallpaper-9_1280.jpg', '1541485421172-eleanor-roosevelt.jpg', '1537343488027-0811wallpaper-7_1280.jpg', '1540803884388-BingWallpaper-2017-08-24.jpg', '1541412131472-Train2.jpg', '1541482216227-Fuji1.jpg', '1540888963420-hogweed-176776915.jpg', '1541138413203-big_stone_516472.jpg', '1541487956753-Frog Haiku4.jpg', '1536228435937-0811wallpaper-1_1280.jpg', '1541486303555-lunch.jpg', '1541138413198-600600.jpg', '1540624342763-1534161091126-0811wallpaper-5_1280.jpg', '1540888939090-how-to-calculate-long-exposure-times-longImages.jpg', '1541056342825-BingWallpaper-2018-02-07.jpg', '1534238677261-0811wallpaper-6_1280.jpg', '1536924076497-0811wallpaper-5_1280.jpg', '1541487956740-Frog Haiku3.jpg', '1541412131365-KR-F-Fam36.jpg', '1541564479621-Bird-parakeet1.jpg', '1534161091130-0811wallpaper-8_1280.jpg', '1534234719286-0811wallpaper-7_1280.jpg', '1540804891061-BingWallpaper-2017-08-24.jpg', '1536924083195-0811wallpaper-7_1280.jpg', '1541412131532-Train14.jpg', '1541565288493-DOG1.jpg', '1541486153176-line up.jpg', '1536228742919-0818wallpaper-7_1280.jpg', '1540623880786-1534161091126-0811wallpaper-5_1280.jpg', '1541566076160-Ikebo5.jpg', '1541054892804-BingWallpaper-2018-02-12.jpg', '1534154282183-2017-03-04.jpg', '1540962451771-0817wallpaper-2_1600.jpg', '1541412131500-Train7.jpg', '1541412131512-Train10 _1_.jpg', '1541565689174-Hyakunin2.jpg', '1541138414766-hogweed-176776915.jpg', '1541047399117-MYd9i4X5gVCMmKP3gsekuP-320-80.jpg', '1536908209939-04558797e701bea2363e37bd0c0188d7.jpg', '1541566076096-Ikebo3.jpg', '1536842880251-04558797e701bea2363e37bd0c0188d7.jpg', '1540623880806-1536929524344-0811wallpaper-7_1280.jpg', '1533903156396-2017-03-04.jpg', '1541412131514-Train10.jpg', '1540789043040-DigitalGlobe_WorldView2_50cm_8bit_Pansharpened_RGB_DRA_Rome_Italy_2009DEC10_8bits_sub_r_1_BIGFILE.jpg', '1541412131383-KR-F-Fam37.jpg', '1536924137496-0818wallpaper-8_1280.jpg', '1537350974169-0817wallpaper-6_1600.jpg', '1536924076497-0811wallpaper-4_1280.jpg', '1541049985349-0818wallpaper-1_1280.jpg', '1541055067930-flowers-beautiful-rose-pink-cute-spring-green-flower-lovely-nature-picture-free-download.jpg', '1541138413196-500569.jpg', '1536924085054-0811wallpaper-8_1280.jpg', '1537349088393-0811wallpaper-7_1280.jpg', '1536924088366-0817wallpaper-1_1600.jpg', '1540804645246-BingWallpaper-2017-08-27.jpg', '1536923079713-04558797e701bea2363e37bd0c0188d7.jpg', '1541044571649-images.jpg', '1541072287044-images.jpg', '1541067254207-images.jpg', '1541054981980-BingWallpaper-2018-02-12.jpg', '1540624158358-1536929524344-0811wallpaper-7_1280.jpg', '1540804034203-BingWallpaper-2017-08-24.jpg', '1536924076465-0811wallpaper-1_1280.jpg', '0817wallpaper-1_1600.jpg', '1541064432677-MYd9i4X5gVCMmKP3gsekuP-320-80.jpg', '1541049985406-0818wallpaper-9_1280.jpg', '1541412131517-Train11.jpg', '1541567874005-OsakaBP1.jpg', '1536929632161-0818wallpaper-10_1280.jpg', '1540802036928-BingWallpaper-2017-09-12.jpg', '1536929524373-0811wallpaper-8_1280.jpg', '1540809632733-Untitled Diagram.jpg', '1541054573215-shiva-wallpaper-9.jpg', '1541565430885-Dog-Karafuto1.jpg', '1541564513911-Bird-finch3.jpg', '1541042453304-beautiful-images-wallpapers-_1_.jpg', '1540579440484-team-3.jpg', '1536924133582-0818wallpaper-2_1280.jpg', '1541049985384-0818wallpaper-7_1280.jpg', '1541076334716-0817wallpaper-9_1600.jpg', '1541565430894-Dog-Karafuto3.jpg', '1536929524463-0811wallpaper-10_1280.jpg', '1534154153945-2016-09-09.jpg', '1541486543083-running.jpg', '1541041928795-387536_ca0e_5.jpg', '1534238677266-0811wallpaper-7_1280.jpg', '1534154232415-2017-04-01.jpg', '1541568045144-OsakaBP1.jpg', '1541042083289-387536_ca0e_5.jpg', '1541410944348-AkihitoMichiko1.jpg', '1534154282185-2017-04-01.jpg', '1540615170823-team-4.jpg', '1536924086542-0811wallpaper-10_1280.jpg', '1536929530710-0817wallpaper-1_1600.jpg', '1541138414762-download _1_.jpg', '1537282190367-0811wallpaper-7_1280.jpg', '1536924076476-0811wallpaper-3_1280.jpg', '1540580198203-team-2.jpg', '1541064432672-entry-dslr.jpg', '1534160719392-0811wallpaper-4_1280.jpg', '1536929632154-0818wallpaper-7_1280.jpg', '1541067052835-flower-3140492__340.jpg', '1541487956695-Frog Haiku2.jpg', '1541046863441-MYd9i4X5gVCMmKP3gsekuP-320-80.jpg', '1541049985369-0818wallpaper-4_1280.jpg', '1536929524344-0811wallpaper-7_1280.jpg', '1541412131336-KR-F-Fam16.jpg', '1534154153949-2016-09-27.jpg', '1541564513867-Bird-finch2.jpg', '1541138413133-300400.jpg', '1540963949852-0811wallpaper-1_1280.jpg', '1540796164443-0817wallpaper-7_1600.jpg', '1541412131306-KR-F-Fam11.jpg', '1541071191309-download.jpg', '1541482454875-Sport-hanshin logo.jpg', '1541484706765-Nelson Mandela.jpg', '1541487541324-running2.jpg', '1536908281116-02dc71c8ce5b8365841a1d2bc9200c5d.jpg', '1540804459882-BingWallpaper-2017-11-06.jpg', '1540579492242-team-2.jpg', '1536929632156-0818wallpaper-9_1280.jpg', '1541064432670-07173547155338-t1200x480.jpg', '1541564513971-Bird-parakeet2.jpg', '1534234887754-0811wallpaper-6_1280.jpg', '1541412131350-KR-F-Fam35.jpg', '1536908281119-04558797e701bea2363e37bd0c0188d7.jpg', '1540792779997-BingWallpaper-2017-08-24.jpg', '1541411111405-AkihitoMichiko1.jpg', '1541049985354-0818wallpaper-2_1280.jpg', '1541138414763-flower-3140492__340.jpg', '1540579419282-team-3.jpg', '1541411155300-AkihitoMichiko1.jpg', '1540804196764-BingWallpaper-2017-11-06.jpg', '1541042267079-07173547155338-t1200x480.jpg', '1541052475334-images _1_.jpg', '1541059448619-0817wallpaper-8_1600.jpg', '1537350978150-0817wallpaper-9_1600.jpg', '1541412131289-KR-F-Fam10.jpg', '1540623880794-1534161091130-0811wallpaper-8_1280.jpg', '1541073529993-dandelion-445228__340.jpg', '1536924137926-0818wallpaper-9_1280.jpg', '1534160719386-0811wallpaper-2_1280.jpg', '1541486930933-jump2.jpg', '1536929524318-0811wallpaper-5_1280.jpg', '1541481757921-Train4.jpg', '1541053630481-nataraja-wallpaper-1920x1080.jpg', '1541072177349-1.300.jpg', '1541566076036-Ikebo1.jpg', '1540615092874-team-2.jpg', '1536929632142-0818wallpaper-6_1280.jpg', '1541047399115-07173547155338-t1200x480.jpg', '1541486356476-class.jpg', '1536929524334-0811wallpaper-6_1280.jpg', '1537350974169-0817wallpaper-5_1600.jpg', '1534160719388-0811wallpaper-3_1280.jpg', '1541565689200-Hyakunin4.jpg', '1541486716251-march.jpg', '1536925205346-0811wallpaper-6_1280.jpg', '1534154099700-2017-01-24.jpg', '1541412131503-Train8.jpg', '1541413165804-0811wallpaper-6_1280.jpg', '1540579957435-team-3.jpg', '1541568045219-OsakaBP3.jpg', '1541486491736-jump.jpg', '1540614935834-team-3.jpg', '1541568045173-OsakaBP2.jpg', '1540803330029-BingWallpaper-2017-11-06.jpg', '1541049829128-images _1_.jpg', '1541566076171-Ikebo6.jpg', '1541412131476-Train3.jpg', '1540623880796-1534161119327-0811wallpaper-9_1280.jpg', '1541064432677-Best-Mid-Range-DSLR-Cameras.jpg', '1540961923151-0811wallpaper-6_1280.jpg', '1541565689176-Hyakunin3.jpg', '1541565689111-Hyakunin1.jpg', '1536924133601-0818wallpaper-6_1280.jpg', '1541049985381-0818wallpaper-6_1280.jpg', '0811wallpaper-7_1280.jpg', '1541565430796-DOG3.jpg', '1541485558547-elizabeth I.jpg', '1537350974157-0817wallpaper-4_1600.jpg', '1541482112113-Sauce3.jpg', '1536923142142-02dc71c8ce5b8365841a1d2bc9200c5d.jpg', '1541412131522-Train13.jpg', '1537350592958-0811wallpaper-9_1280.jpg', '1536923312329-04558797e701bea2363e37bd0c0188d7.jpg', '1537282190361-0811wallpaper-6_1280.jpg', '1541054706437-beautiful-wallpaper-download-14.jpg', '1541566076172-Ikebo7.jpg', '1537350978601-0818wallpaper-1_1280.jpg', '1541075107027-0811wallpaper-5_1280.jpg', '1534161091129-0811wallpaper-7_1280.jpg', '1541049985360-0818wallpaper-3_1280.jpg', '1541049985378-0818wallpaper-5_1280.jpg', '1536924076498-0811wallpaper-6_1280.jpg', '1534234719282-0811wallpaper-6_1280.jpg', '1537350974141-0817wallpaper-2_1600.jpg', '1541412131498-Train6.jpg', '1541412131414-Train1.jpg', '1541070907392-wood-sea-nature-449627.jpg', '1541564479641-Bird-parakeet2.jpg', '1534161091126-0811wallpaper-5_1280.jpg', '1540989199587-BingWallpaper-2017-08-29.jpg', '0811wallpaper-6_1280.jpg', '1541482049366-Sauce2.jpg', '1533903369992-2016-09-27.jpg', '1534234719287-0811wallpaper-8_1280.jpg', '1536908209912-02dc71c8ce5b8365841a1d2bc9200c5d.jpg', '1541410989580-AkihitoMichiko1.jpg', '1540792963727-nataraja-wallpaper-1920x1080.jpg', '1541412131489-Train4.jpg', '1541564479517-Bird-finch1.jpg', '1537353518106-0811wallpaper-1_1280.jpg', '1536843037177-04558797e701bea2363e37bd0c0188d7.jpg', '1541071547276-tree-736885__340.jpg', '1541049985385-0818wallpaper-8_1280.jpg', '1540963949865-0811wallpaper-3_1280.jpg', '1541138413254-DigitalGlobe_WorldView2_50cm_8bit_Pansharpened_RGB_DRA_Rome_Italy_2009DEC10_8bits_sub_r_1_BIGFILE.jpg', '1540579389948-team-2.jpg', '1536924133594-0818wallpaper-5_1280.jpg', '1534161119333-0811wallpaper-7_1280.jpg', '1536929709201-0818wallpaper-1_1280.jpg', '1536906631010-04558797e701bea2363e37bd0c0188d7.jpg', '1541564513923-Bird-finch4.jpg', '1536924133576-0818wallpaper-1_1280.jpg', '1541074222100-0811wallpaper-7_1280.jpg', '1537425300342-0818wallpaper-10_1280.jpg', '1537350977678-0817wallpaper-7_1600.jpg', '1541054388671-entry-dslr.jpg', '1540964661922-0811wallpaper-1_1280.jpg', '1537350978802-0818wallpaper-2_1280.jpg', '1534161119339-0811wallpaper-8_1280.jpg', '1541566076131-Ikebo4.jpg', '1534238677264-0811wallpaper-6_1280.jpg', '1540579555114-team-3.jpg', '1540962451742-0811wallpaper-10_1280.jpg', '1541138413130-225225.jpg', '1536906631001-02dc71c8ce5b8365841a1d2bc9200c5d.jpg', '1540962451743-0817wallpaper-1_1600.jpg', '1541484768278-Nelson Mandela.jpg', '1541049985408-0818wallpaper-10_1280.jpg', '1534234719284-0811wallpaper-6_1280.jpg', '1541565430844-DOG6.jpg', '1541049614160-Best-Mid-Range-DSLR-Cameras.jpg', '1541487956772-Frog Haiku5.jpg', '1541412131497-Train5.jpg', '1541074177404-0817wallpaper-8_1600.jpg', '1541565689201-Hyakunin5.jpg', '1536923142152-04558797e701bea2363e37bd0c0188d7.jpg', '1541055215432-1.300.jpg', '1541412131507-Train9.jpg', '1541074555855-0818wallpaper-3_1280.jpg', '1540788010099-DigitalGlobe_WorldView2_50cm_8bit_Pansharpened_RGB_DRA_Rome_Italy_2009DEC10_8bits_sub_r_1_BIGFILE.jpg', '1541412131546-Train16.jpg', '1537350974142-0817wallpaper-3_1600.jpg', '1536929530811-0817wallpaper-2_1600.jpg', '1540624417684-1536929524373-0811wallpaper-8_1280.jpg', '1541566076054-Ikebo2.jpg', '1540622855472-team-1.jpg', '1541486266945-playtime.jpg', '0811wallpaper-9_1280.jpg', '1540792660670-BingWallpaper-2017-08-24.jpg', '1541041764849-387536_ca0e_5.jpg', '1541412131320-KR-F-Fam15.jpg', '1540804422697-BingWallpaper-2017-08-24.jpg', '1541042494365-07173547155338-t1200x480.jpg', '1541565689215-Hyakunin6.jpg', '1536843117244-04558797e701bea2363e37bd0c0188d7.jpg', '1541042182128-387536_ca0e_5.jpg', '1541064754434-download _1_.jpg', '1540961836788-600600.jpg', '1536924136635-0818wallpaper-7_1280.jpg']\n"
     ]
    }
   ],
   "source": [
    "image_name=imglst(vector, mappings)\n",
    "print(np.shape(image_name))\n",
    "print(image_name)"
   ]
  },
  {
   "cell_type": "code",
   "execution_count": 12,
   "metadata": {},
   "outputs": [],
   "source": [
    "def co_ord(vector):\n",
    "    Xaxis = list()\n",
    "    yaxis = list()\n",
    "    myarray = np.reshape(vector[:(np.shape(vector)[0])], 2*(np.shape(vector)[0]))\n",
    "    for loop1 in range(2*(np.shape(vector)[0])):\n",
    "        if(loop1%2 ==0):\n",
    "            Xaxis.append(myarray[loop1])\n",
    "        else:\n",
    "            yaxis.append(myarray[loop1])\n",
    "    X = np.vstack((Xaxis, yaxis)).T\n",
    "    return X"
   ]
  },
  {
   "cell_type": "code",
   "execution_count": 13,
   "metadata": {},
   "outputs": [
    {
     "name": "stdout",
     "output_type": "stream",
     "text": [
      "(354, 2)\n",
      "[[ 0.04344084  0.1263969 ]\n",
      " [-0.01977208  0.2516673 ]\n",
      " [-0.0367197   0.21816652]\n",
      " [-0.15422305  0.17065032]\n",
      " [ 0.07583056  0.1146009 ]\n",
      " [ 0.07699405  0.22380891]\n",
      " [ 0.18548803  0.23713964]\n",
      " [ 0.1260769   0.2153015 ]\n",
      " [ 0.2210254  -0.06421127]\n",
      " [ 0.1835738  -0.00960936]\n",
      " [-0.09219229  0.08711968]\n",
      " [-0.24063489  0.06679109]\n",
      " [ 0.07699405  0.22380891]\n",
      " [-0.06150658  0.11200558]\n",
      " [ 0.03129626 -0.1543452 ]\n",
      " [-0.13256706 -0.13827719]\n",
      " [ 0.12439086 -0.24452648]\n",
      " [ 0.21285562  0.07020591]\n",
      " [-0.23173676 -0.02610068]\n",
      " [ 0.12140958  0.08712532]\n",
      " [-0.12137561 -0.10474143]\n",
      " [ 0.2210254  -0.06421127]\n",
      " [ 0.03129626 -0.1543452 ]\n",
      " [ 0.09472584  0.15827078]\n",
      " [ 0.19582391 -0.15039721]\n",
      " [-0.14422825  0.03495646]\n",
      " [-0.05016611 -0.11269383]\n",
      " [ 0.12439086 -0.24452648]\n",
      " [ 0.19133317 -0.09643677]\n",
      " [ 0.19133317 -0.09643677]\n",
      " [-0.01977208  0.2516673 ]\n",
      " [ 0.00669424  0.13649324]\n",
      " [ 0.05222799  0.01909393]\n",
      " [-0.13803731 -0.03974151]\n",
      " [-0.24747248  0.05194634]\n",
      " [-0.24747248  0.05194634]\n",
      " [ 0.18934713  0.22413154]\n",
      " [-0.02971904  0.24526605]\n",
      " [-0.23173676 -0.02610068]\n",
      " [-0.23886082  0.18114632]\n",
      " [-0.23173676 -0.02610068]\n",
      " [-0.15422305  0.17065032]\n",
      " [ 0.06567105 -0.04645907]\n",
      " [ 0.2210254  -0.06421127]\n",
      " [ 0.2210254  -0.06421127]\n",
      " [ 0.07583056  0.1146009 ]\n",
      " [ 0.01364409  0.05278501]\n",
      " [-0.23886082  0.18114632]\n",
      " [-0.21916658 -0.13295288]\n",
      " [-0.19194552  0.12183017]\n",
      " [-0.13011236 -0.02603516]\n",
      " [-0.01977208  0.2516673 ]\n",
      " [ 0.07373081 -0.05896308]\n",
      " [ 0.16920134 -0.14036576]\n",
      " [-0.12741102  0.00077304]\n",
      " [ 0.135193   -0.21999888]\n",
      " [-0.15124954  0.13995235]\n",
      " [ 0.05462716  0.10098588]\n",
      " [-0.0367197   0.21816652]\n",
      " [-0.08327173  0.23863834]\n",
      " [-0.08327173  0.23863834]\n",
      " [ 0.17210989 -0.17955928]\n",
      " [-0.02495853  0.11669588]\n",
      " [-0.05016611 -0.11269383]\n",
      " [ 0.04975947 -0.00524484]\n",
      " [ 0.08962922 -0.15292783]\n",
      " [ 0.22663212 -0.03643482]\n",
      " [ 0.11061138 -0.03387272]\n",
      " [ 0.16168933  0.18467258]\n",
      " [-0.15422305  0.17065032]\n",
      " [ 0.07313054 -0.08202489]\n",
      " [ 0.15312128  0.20869775]\n",
      " [ 0.1835738  -0.00960936]\n",
      " [ 0.06567105 -0.04645907]\n",
      " [ 0.00514321 -0.00289225]\n",
      " [-0.23173676 -0.02610068]\n",
      " [-0.01977208  0.2516673 ]\n",
      " [-0.19207849  0.01991021]\n",
      " [ 0.01364409  0.05278501]\n",
      " [-0.12852941 -0.18747443]\n",
      " [-0.01977208  0.2516673 ]\n",
      " [-0.08327173  0.23863834]\n",
      " [-0.13301311  0.01334026]\n",
      " [ 0.05943413  0.09421856]\n",
      " [-0.20178808  0.198136  ]\n",
      " [ 0.09062586 -0.11860733]\n",
      " [-0.01977208  0.2516673 ]\n",
      " [-0.13803731 -0.03974151]\n",
      " [-0.14337309  0.1850659 ]\n",
      " [ 0.02413617 -0.21551728]\n",
      " [-0.15422305  0.17065032]\n",
      " [-0.05128561 -0.11710042]\n",
      " [ 0.21831281 -0.24512342]\n",
      " [-0.0367197   0.21816652]\n",
      " [ 0.07313054 -0.08202489]\n",
      " [ 0.19331838 -0.00935742]\n",
      " [ 0.01364409  0.05278501]\n",
      " [-0.0367197   0.21816652]\n",
      " [ 0.02413617 -0.21551728]\n",
      " [-0.02495853  0.11669588]\n",
      " [ 0.18548803  0.23713964]\n",
      " [ 0.07699405  0.22380891]\n",
      " [ 0.05943413  0.09421856]\n",
      " [-0.20178808  0.198136  ]\n",
      " [ 0.05943413  0.09421856]\n",
      " [ 0.04975947 -0.00524484]\n",
      " [-0.18604723 -0.07142875]\n",
      " [-0.24595544 -0.19227843]\n",
      " [-0.12442718 -0.13688707]\n",
      " [-0.0367197   0.21816652]\n",
      " [ 0.14098048  0.2071543 ]\n",
      " [ 0.19208166  0.08056508]\n",
      " [-0.24747248  0.05194634]\n",
      " [ 0.19133317 -0.09643677]\n",
      " [-0.02495853  0.11669588]\n",
      " [-0.02495853  0.11669588]\n",
      " [ 0.11479852  0.18065973]\n",
      " [-0.13803731 -0.03974151]\n",
      " [ 0.08962922 -0.15292783]\n",
      " [-0.20178808  0.198136  ]\n",
      " [-0.23886082  0.18114632]\n",
      " [-0.20178808  0.198136  ]\n",
      " [ 0.05943413  0.09421856]\n",
      " [-0.24747248  0.05194634]\n",
      " [-0.02495853  0.11669588]\n",
      " [ 0.12140958  0.08712532]\n",
      " [-0.02495853  0.11669588]\n",
      " [-0.19207849  0.01991021]\n",
      " [ 0.06271895  0.12074614]\n",
      " [ 0.06567105 -0.04645907]\n",
      " [ 0.02929098  0.00360745]\n",
      " [-0.02971904  0.24526605]\n",
      " [ 0.09619015  0.01572422]\n",
      " [ 0.07699405  0.22380891]\n",
      " [ 0.05943413  0.09421856]\n",
      " [ 0.19133317 -0.09643677]\n",
      " [ 0.12439086 -0.24452648]\n",
      " [-0.20178808  0.198136  ]\n",
      " [ 0.16168933  0.18467258]\n",
      " [ 0.16168933  0.18467258]\n",
      " [-0.01977208  0.2516673 ]\n",
      " [ 0.19208166  0.08056508]\n",
      " [ 0.05943413  0.09421856]\n",
      " [-0.20178808  0.198136  ]\n",
      " [-0.15422305  0.17065032]\n",
      " [ 0.19133317 -0.09643677]\n",
      " [ 0.08962922 -0.15292783]\n",
      " [-0.01977208  0.2516673 ]\n",
      " [-0.02495853  0.11669588]\n",
      " [ 0.0402185  -0.11131838]\n",
      " [ 0.2210254  -0.06421127]\n",
      " [ 0.07922415  0.18208258]\n",
      " [ 0.07699405  0.22380891]\n",
      " [ 0.07313054 -0.08202489]\n",
      " [-0.23173676 -0.02610068]\n",
      " [ 0.10955051  0.10964016]\n",
      " [-0.13256706 -0.13827719]\n",
      " [ 0.19928746  0.0016229 ]\n",
      " [ 0.00514321 -0.00289225]\n",
      " [ 0.07761251  0.02381453]\n",
      " [-0.12442718 -0.13688707]\n",
      " [ 0.19582391 -0.15039721]\n",
      " [-0.2093406   0.1253513 ]\n",
      " [-0.12238637 -0.22773372]\n",
      " [ 0.19133317 -0.09643677]\n",
      " [-0.09219229  0.08711968]\n",
      " [ 0.08962922 -0.15292783]\n",
      " [ 0.05943413  0.09421856]\n",
      " [ 0.17590888  0.06824051]\n",
      " [ 0.0402185  -0.11131838]\n",
      " [ 0.08962922 -0.15292783]\n",
      " [ 0.12535012  0.14809404]\n",
      " [ 0.17590888  0.06824051]\n",
      " [ 0.12535012  0.14809404]\n",
      " [-0.12238637 -0.22773372]\n",
      " [ 0.19133317 -0.09643677]\n",
      " [-0.10563802 -0.08133586]\n",
      " [ 0.05943413  0.09421856]\n",
      " [-0.01869586 -0.02591258]\n",
      " [ 0.16920134 -0.14036576]\n",
      " [-0.20627464 -0.18564996]\n",
      " [ 0.06567105 -0.04645907]\n",
      " [-0.12442718 -0.13688707]\n",
      " [-0.13803731 -0.03974151]\n",
      " [ 0.07455491 -0.24666354]\n",
      " [ 0.08962922 -0.15292783]\n",
      " [ 0.11061138 -0.03387272]\n",
      " [ 0.05943413  0.09421856]\n",
      " [-0.24595544 -0.19227843]\n",
      " [-0.07659688  0.23302016]\n",
      " [-0.12741102  0.00077304]\n",
      " [ 0.09472584  0.15827078]\n",
      " [-0.15422305  0.17065032]\n",
      " [-0.07659688  0.23302016]\n",
      " [-0.02495853  0.11669588]\n",
      " [ 0.00738025 -0.14585613]\n",
      " [ 0.07132895 -0.18753688]\n",
      " [ 0.05495707 -0.13326953]\n",
      " [ 0.03186249  0.2078634 ]\n",
      " [-0.05016611 -0.11269383]\n",
      " [ 0.07922415  0.18208258]\n",
      " [ 0.16920134 -0.14036576]\n",
      " [-0.01977208  0.2516673 ]\n",
      " [ 0.08962922 -0.15292783]\n",
      " [ 0.18548803  0.23713964]\n",
      " [ 0.01364409  0.05278501]\n",
      " [-0.02495853  0.11669588]\n",
      " [-0.20178808  0.198136  ]\n",
      " [-0.20178808  0.198136  ]\n",
      " [-0.09428932  0.070939  ]\n",
      " [ 0.07761251  0.02381453]\n",
      " [-0.13803731 -0.03974151]\n",
      " [ 0.00514321 -0.00289225]\n",
      " [-0.09428932  0.070939  ]\n",
      " [ 0.07922415  0.18208258]\n",
      " [ 0.08962922 -0.15292783]\n",
      " [ 0.17210989 -0.17955928]\n",
      " [ 0.05462716  0.10098588]\n",
      " [ 0.19582391 -0.15039721]\n",
      " [-0.02495853  0.11669588]\n",
      " [ 0.07699405  0.22380891]\n",
      " [ 0.15211539 -0.11429016]\n",
      " [-0.01977208  0.2516673 ]\n",
      " [-0.23173676 -0.02610068]\n",
      " [-0.08693837 -0.00206365]\n",
      " [-0.0367197   0.21816652]\n",
      " [-0.02495853  0.11669588]\n",
      " [-0.11062838 -0.18359318]\n",
      " [ 0.19133317 -0.09643677]\n",
      " [-0.23886082  0.18114632]\n",
      " [ 0.16920134 -0.14036576]\n",
      " [ 0.19133317 -0.09643677]\n",
      " [ 0.08962922 -0.15292783]\n",
      " [-0.09348568  0.14218901]\n",
      " [ 0.01364409  0.05278501]\n",
      " [ 0.06567105 -0.04645907]\n",
      " [-0.01869586 -0.02591258]\n",
      " [-0.09428932  0.070939  ]\n",
      " [ 0.18542078 -0.20662645]\n",
      " [ 0.01364409  0.05278501]\n",
      " [ 0.19133317 -0.09643677]\n",
      " [-0.02495853  0.11669588]\n",
      " [-0.1547894  -0.07568331]\n",
      " [ 0.00514321 -0.00289225]\n",
      " [-0.00237834 -0.0616197 ]\n",
      " [ 0.18934713  0.22413154]\n",
      " [ 0.00514321 -0.00289225]\n",
      " [-0.1504551  -0.23333912]\n",
      " [ 0.07922415  0.18208258]\n",
      " [ 0.17210989 -0.17955928]\n",
      " [-0.17544498  0.02253927]\n",
      " [ 0.09062586 -0.11860733]\n",
      " [-0.08327173  0.23863834]\n",
      " [ 0.08962922 -0.15292783]\n",
      " [ 0.01364409  0.05278501]\n",
      " [ 0.16420174  0.17435203]\n",
      " [ 0.1264719  -0.06389204]\n",
      " [ 0.19133317 -0.09643677]\n",
      " [ 0.19133317 -0.09643677]\n",
      " [ 0.05943413  0.09421856]\n",
      " [ 0.16689616  0.03679218]\n",
      " [ 0.07705645  0.22199431]\n",
      " [ 0.24632952 -0.15383977]\n",
      " [ 0.20918123  0.10421931]\n",
      " [-0.05016611 -0.11269383]\n",
      " [-0.02495853  0.11669588]\n",
      " [-0.08327173  0.23863834]\n",
      " [-0.20178808  0.198136  ]\n",
      " [ 0.01364409  0.05278501]\n",
      " [-0.12852941 -0.18747443]\n",
      " [ 0.0600278   0.16859184]\n",
      " [ 0.02929098  0.00360745]\n",
      " [ 0.06567105 -0.04645907]\n",
      " [ 0.05943413  0.09421856]\n",
      " [-0.12137561 -0.10474143]\n",
      " [-0.07659688  0.23302016]\n",
      " [ 0.01364409  0.05278501]\n",
      " [ 0.01364409  0.05278501]\n",
      " [ 0.19133317 -0.09643677]\n",
      " [-0.02495853  0.11669588]\n",
      " [ 0.09062586 -0.11860733]\n",
      " [ 0.11061138 -0.03387272]\n",
      " [ 0.18548803  0.23713964]\n",
      " [-0.0367197   0.21816652]\n",
      " [-0.14422825  0.03495646]\n",
      " [ 0.01364409  0.05278501]\n",
      " [-0.17917208 -0.06024342]\n",
      " [-0.07659688  0.23302016]\n",
      " [ 0.07699405  0.22380891]\n",
      " [-0.05016611 -0.11269383]\n",
      " [-0.09428932  0.070939  ]\n",
      " [-0.11062838 -0.18359318]\n",
      " [-0.02495853  0.11669588]\n",
      " [ 0.1260769   0.2153015 ]\n",
      " [-0.15422305  0.17065032]\n",
      " [-0.20178808  0.198136  ]\n",
      " [ 0.07583056  0.1146009 ]\n",
      " [-0.19207849  0.01991021]\n",
      " [-0.01869586 -0.02591258]\n",
      " [ 0.12140958  0.08712532]\n",
      " [ 0.16920134 -0.14036576]\n",
      " [-0.07659688  0.23302016]\n",
      " [ 0.05943413  0.09421856]\n",
      " [ 0.02929098  0.00360745]\n",
      " [-0.20178808  0.198136  ]\n",
      " [ 0.22663212 -0.03643482]\n",
      " [ 0.02929098  0.00360745]\n",
      " [-0.14248125 -0.17226838]\n",
      " [ 0.2210254  -0.06421127]\n",
      " [-0.07659688  0.23302016]\n",
      " [-0.20627464 -0.18564996]\n",
      " [-0.15422305  0.17065032]\n",
      " [ 0.07761251  0.02381453]\n",
      " [ 0.07699405  0.22380891]\n",
      " [-0.23886082  0.18114632]\n",
      " [ 0.01364409  0.05278501]\n",
      " [ 0.00514321 -0.00289225]\n",
      " [-0.12238637 -0.22773372]\n",
      " [-0.19720295 -0.15192193]\n",
      " [-0.05016611 -0.11269383]\n",
      " [ 0.19133317 -0.09643677]\n",
      " [ 0.1584804   0.1008989 ]\n",
      " [ 0.2210254  -0.06421127]\n",
      " [ 0.01364409  0.05278501]\n",
      " [-0.03341607 -0.0726798 ]\n",
      " [ 0.08962922 -0.15292783]\n",
      " [ 0.10362631  0.15229593]\n",
      " [-0.02495853  0.11669588]\n",
      " [ 0.05462716  0.10098588]\n",
      " [-0.09428932  0.070939  ]\n",
      " [-0.20178808  0.198136  ]\n",
      " [ 0.19133317 -0.09643677]\n",
      " [-0.02495853  0.11669588]\n",
      " [ 0.14098048  0.2071543 ]\n",
      " [ 0.12140958  0.08712532]\n",
      " [ 0.04975947 -0.00524484]\n",
      " [-0.21473847  0.02317952]\n",
      " [ 0.19133317 -0.09643677]\n",
      " [ 0.07699405  0.22380891]\n",
      " [ 0.14098048  0.2071543 ]\n",
      " [ 0.03532331 -0.00566997]\n",
      " [ 0.05462716  0.10098588]\n",
      " [-0.08327173  0.23863834]\n",
      " [-0.20178808  0.198136  ]\n",
      " [ 0.08962922 -0.15292783]\n",
      " [-0.02495853  0.11669588]\n",
      " [-0.20178808  0.198136  ]\n",
      " [ 0.08962922 -0.15292783]\n",
      " [-0.10381545 -0.10637974]\n",
      " [-0.20178808  0.198136  ]\n",
      " [ 0.08962922 -0.15292783]\n",
      " [-0.10563802 -0.08133586]\n",
      " [ 0.21831281 -0.24512342]\n",
      " [-0.12442718 -0.13688707]]\n"
     ]
    }
   ],
   "source": [
    "X=co_ord(vector)\n",
    "print(np.shape(X))\n",
    "print(X)"
   ]
  },
  {
   "cell_type": "code",
   "execution_count": 14,
   "metadata": {},
   "outputs": [
    {
     "name": "stderr",
     "output_type": "stream",
     "text": [
      "/home/guest/anaconda3/lib/python3.7/site-packages/ipykernel_launcher.py:8: DeprecationWarning: Call to deprecated `__getitem__` (Method will be removed in 4.0.0, use self.wv.__getitem__() instead).\n",
      "  \n"
     ]
    }
   ],
   "source": [
    "image_name=w2v(all_tags)\n",
    "X=co_ord(vector)\n",
    "def K_mean(X, image_name):\n",
    "    kmeans = KMeans(n_clusters=4)\n",
    "    kmeans.fit(X)\n",
    "    y_kmeans = kmeans.predict(X)\n",
    "    centers = kmeans.cluster_centers_\n",
    "    plt.scatter(X[:, 0], X[:, 1], c=y_kmeans, s=50, cmap='viridis')\n",
    "    plt.scatter(centers[:, 0], centers[:, 1], c='black', s=200, alpha=0.5);\n",
    "    c = np.random.randint(1,5,size=522)\n",
    "    \n",
    "    norm = plt.Normalize(1,4)\n",
    "    cmap = plt.cm.RdYlGn\n",
    "    \n",
    "    fig,ax = plt.subplots()\n",
    "    sc = plt.scatter(X[:,0], X[:,1],c=y_kmeans, s=50, cmap='viridis')\n",
    "    plt.scatter(centers[:, 0], centers[:, 1], c='black', s=200, alpha=0.5)\n",
    "    \n",
    "    annot = ax.annotate(\"\", xy=(0,0), xytext=(20,20),textcoords=\"offset points\",\n",
    "                        bbox=dict(boxstyle=\"round\", fc=\"w\"),\n",
    "                        arrowprops=dict(arrowstyle=\"->\"))\n",
    "    annot.set_visible(False)\n",
    "    \n",
    "    def update_annot(ind):\n",
    "        pos = sc.get_offsets()[ind[\"ind\"][0]]\n",
    "        annot.xy = pos\n",
    "        text = \"{}, {}\".format(\" \".join(list(map(str,ind[\"ind\"]))), \n",
    "                               \" \".join([image_name[n] for n in ind[\"ind\"]]))\n",
    "        annot.set_text(text)\n",
    "        annot.get_bbox_patch().set_facecolor(cmap(norm(c[ind[\"ind\"][0]])))\n",
    "        annot.get_bbox_patch().set_alpha(0.4)\n",
    "    \n",
    "    \n",
    "    def hover(event):\n",
    "        vis = annot.get_visible()\n",
    "        if event.inaxes == ax:\n",
    "            cont, ind = sc.contains(event)\n",
    "            if cont:\n",
    "                update_annot(ind)\n",
    "                annot.set_visible(True)\n",
    "                fig.canvas.draw_idle()\n",
    "            else:\n",
    "                if vis:\n",
    "                    annot.set_visible(False)\n",
    "                    fig.canvas.draw_idle()\n",
    "    fig.canvas.mpl_connect(\"motion_notify_event\", hover)\n",
    "    return y_kmeans,centers"
   ]
  },
  {
   "cell_type": "code",
   "execution_count": 15,
   "metadata": {},
   "outputs": [
    {
     "data": {
      "image/png": "[encoded data removed]",
      "text/plain": [
       "<Figure size 432x288 with 1 Axes>"
      ]
     },
     "metadata": {
      "needs_background": "light"
     },
     "output_type": "display_data"
    },
    {
     "data": {
      "image/png": "[encoded data removed]",
      "text/plain": [
       "<Figure size 432x288 with 1 Axes>"
      ]
     },
     "metadata": {
      "needs_background": "light"
     },
     "output_type": "display_data"
    }
   ],
   "source": [
    "y_kmeans,centers=K_mean(X, image_name)\n",
    "# print(np.shape(y_kmeans))\n",
    "# print(np.shape(centers))"
   ]
  },
  {
   "cell_type": "code",
   "execution_count": 16,
   "metadata": {},
   "outputs": [],
   "source": [
    "def clustdf(mappings):\n",
    "    cluster_center = list()\n",
    "    for center in range(len(X)):\n",
    "        cluster_center.append(y_kmeans[center])\n",
    "    cluster_df = pd.DataFrame(mappings, columns=['Image_name','First_Tag'])\n",
    "    cluster_df['cluster_center'] = cluster_center\n",
    "    df_cluster1 = cluster_df[cluster_df['cluster_center']==0]\n",
    "    df_cluster2 = cluster_df[cluster_df['cluster_center']==1]\n",
    "    df_cluster3 = cluster_df[cluster_df['cluster_center']==2]\n",
    "    df_cluster4 = cluster_df[cluster_df['cluster_center']==3]\n",
    "    return cluster_df, df_cluster1, df_cluster2, df_cluster3, df_cluster4"
   ]
  },
  {
   "cell_type": "code",
   "execution_count": 17,
   "metadata": {
    "scrolled": true
   },
   "outputs": [
    {
     "data": {
      "text/html": [
       "<div>\n",
       "<style scoped>\n",
       "    .dataframe tbody tr th:only-of-type {\n",
       "        vertical-align: middle;\n",
       "    }\n",
       "\n",
       "    .dataframe tbody tr th {\n",
       "        vertical-align: top;\n",
       "    }\n",
       "\n",
       "    .dataframe thead th {\n",
       "        text-align: right;\n",
       "    }\n",
       "</style>\n",
       "<table border=\"1\" class=\"dataframe\">\n",
       "  <thead>\n",
       "    <tr style=\"text-align: right;\">\n",
       "      <th></th>\n",
       "      <th>Image_name</th>\n",
       "      <th>First_Tag</th>\n",
       "      <th>cluster_center</th>\n",
       "    </tr>\n",
       "  </thead>\n",
       "  <tbody>\n",
       "    <tr>\n",
       "      <th>0</th>\n",
       "      <td>1541565430897-Dog-maltese1.jpg</td>\n",
       "      <td>Maltese_dog</td>\n",
       "      <td>0</td>\n",
       "    </tr>\n",
       "    <tr>\n",
       "      <th>1</th>\n",
       "      <td>1534154099702-2017-01-06.jpg</td>\n",
       "      <td>alp</td>\n",
       "      <td>3</td>\n",
       "    </tr>\n",
       "    <tr>\n",
       "      <th>2</th>\n",
       "      <td>1536925205335-0811wallpaper-5_1280.jpg</td>\n",
       "      <td>sandbar</td>\n",
       "      <td>3</td>\n",
       "    </tr>\n",
       "    <tr>\n",
       "      <th>3</th>\n",
       "      <td>1534160719354-0811wallpaper-1_1280.jpg</td>\n",
       "      <td>cauliflower</td>\n",
       "      <td>3</td>\n",
       "    </tr>\n",
       "    <tr>\n",
       "      <th>4</th>\n",
       "      <td>1541071465047-tree-736885__340.jpg</td>\n",
       "      <td>fountain</td>\n",
       "      <td>0</td>\n",
       "    </tr>\n",
       "  </tbody>\n",
       "</table>\n",
       "</div>"
      ],
      "text/plain": [
       "                               Image_name    First_Tag  cluster_center\n",
       "0          1541565430897-Dog-maltese1.jpg  Maltese_dog               0\n",
       "1            1534154099702-2017-01-06.jpg          alp               3\n",
       "2  1536925205335-0811wallpaper-5_1280.jpg      sandbar               3\n",
       "3  1534160719354-0811wallpaper-1_1280.jpg  cauliflower               3\n",
       "4      1541071465047-tree-736885__340.jpg     fountain               0"
      ]
     },
     "execution_count": 17,
     "metadata": {},
     "output_type": "execute_result"
    }
   ],
   "source": [
    "cluster_df, df_cluster1, df_cluster2, df_cluster3, df_cluster4 = clustdf(mappings)\n",
    "cluster_df.head()"
   ]
  },
  {
   "cell_type": "code",
   "execution_count": 18,
   "metadata": {},
   "outputs": [
    {
     "data": {
      "text/html": [
       "<div>\n",
       "<style scoped>\n",
       "    .dataframe tbody tr th:only-of-type {\n",
       "        vertical-align: middle;\n",
       "    }\n",
       "\n",
       "    .dataframe tbody tr th {\n",
       "        vertical-align: top;\n",
       "    }\n",
       "\n",
       "    .dataframe thead th {\n",
       "        text-align: right;\n",
       "    }\n",
       "</style>\n",
       "<table border=\"1\" class=\"dataframe\">\n",
       "  <thead>\n",
       "    <tr style=\"text-align: right;\">\n",
       "      <th></th>\n",
       "      <th>Image_name</th>\n",
       "      <th>First_Tag</th>\n",
       "      <th>cluster_center</th>\n",
       "    </tr>\n",
       "  </thead>\n",
       "  <tbody>\n",
       "    <tr>\n",
       "      <th>11</th>\n",
       "      <td>1541075383283-0817wallpaper-1_1600.jpg</td>\n",
       "      <td>pole</td>\n",
       "      <td>1</td>\n",
       "    </tr>\n",
       "    <tr>\n",
       "      <th>15</th>\n",
       "      <td>1541564479593-Bird-finch3.jpg</td>\n",
       "      <td>hen</td>\n",
       "      <td>1</td>\n",
       "    </tr>\n",
       "    <tr>\n",
       "      <th>18</th>\n",
       "      <td>1540963949863-0811wallpaper-2_1280.jpg</td>\n",
       "      <td>coil</td>\n",
       "      <td>1</td>\n",
       "    </tr>\n",
       "    <tr>\n",
       "      <th>20</th>\n",
       "      <td>1536924133586-0818wallpaper-3_1280.jpg</td>\n",
       "      <td>cardoon</td>\n",
       "      <td>1</td>\n",
       "    </tr>\n",
       "    <tr>\n",
       "      <th>25</th>\n",
       "      <td>1540988911126-BingWallpaper-2017-08-29.jpg</td>\n",
       "      <td>great_white_shark</td>\n",
       "      <td>1</td>\n",
       "    </tr>\n",
       "  </tbody>\n",
       "</table>\n",
       "</div>"
      ],
      "text/plain": [
       "                                    Image_name          First_Tag  \\\n",
       "11      1541075383283-0817wallpaper-1_1600.jpg               pole   \n",
       "15               1541564479593-Bird-finch3.jpg                hen   \n",
       "18      1540963949863-0811wallpaper-2_1280.jpg               coil   \n",
       "20      1536924133586-0818wallpaper-3_1280.jpg            cardoon   \n",
       "25  1540988911126-BingWallpaper-2017-08-29.jpg  great_white_shark   \n",
       "\n",
       "    cluster_center  \n",
       "11               1  \n",
       "15               1  \n",
       "18               1  \n",
       "20               1  \n",
       "25               1  "
      ]
     },
     "execution_count": 18,
     "metadata": {},
     "output_type": "execute_result"
    }
   ],
   "source": [
    "df_cluster2.head()"
   ]
  },
  {
   "cell_type": "code",
   "execution_count": 19,
   "metadata": {},
   "outputs": [
    {
     "name": "stdout",
     "output_type": "stream",
     "text": [
      "(354,)\n"
     ]
    }
   ],
   "source": [
    "cluster_center = list()\n",
    "for center in range(len(X)):\n",
    "    cluster_center.append(y_kmeans[center])\n",
    "print(np.shape(cluster_center))"
   ]
  },
  {
   "cell_type": "code",
   "execution_count": null,
   "metadata": {},
   "outputs": [],
   "source": []
  }
 ],
 "metadata": {
  "kernelspec": {
   "display_name": "Python 3",
   "language": "python",
   "name": "python3"
  },
  "language_info": {
   "codemirror_mode": {
    "name": "ipython",
    "version": 3
   },
   "file_extension": ".py",
   "mimetype": "text/x-python",
   "name": "python",
   "nbconvert_exporter": "python",
   "pygments_lexer": "ipython3",
   "version": "3.7.3"
  }
 },
 "nbformat": 4,
 "nbformat_minor": 2
}
